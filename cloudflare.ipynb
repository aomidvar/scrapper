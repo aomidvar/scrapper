{
  "nbformat": 4,
  "nbformat_minor": 0,
  "metadata": {
    "colab": {
      "provenance": [],
      "authorship_tag": "ABX9TyMtEdrRdBXAWM97B7UXjF6i",
      "include_colab_link": true
    },
    "kernelspec": {
      "name": "python3",
      "display_name": "Python 3"
    },
    "language_info": {
      "name": "python"
    }
  },
  "cells": [
    {
      "cell_type": "markdown",
      "metadata": {
        "id": "view-in-github",
        "colab_type": "text"
      },
      "source": [
        "<a href=\"https://colab.research.google.com/github/aomidvar/scrapper/blob/main/cloudflare.ipynb\" target=\"_parent\"><img src=\"https://colab.research.google.com/assets/colab-badge.svg\" alt=\"Open In Colab\"/></a>"
      ]
    },
    {
      "cell_type": "code",
      "execution_count": null,
      "metadata": {
        "colab": {
          "base_uri": "https://localhost:8080/"
        },
        "id": "2fZeOKYBilr8",
        "outputId": "6e8fb85d-1973-4cbf-8aad-54e210b19838"
      },
      "outputs": [
        {
          "output_type": "stream",
          "name": "stdout",
          "text": [
            "Subscribe to receive notifications of new posts:Subscription confirmed. Thank you for subscribing!Loading...January 28, 2021 9:00AMWelcome to Data Privacy Day 2021! Last year at this time, I was writing about how Cloudflare builds privacy into everything we do, with little idea about how dramatically the world was going to change. The tragedy of the COVID-19 pandemic has reshaped the way we go about our daily lives. Our dependence on the Internet grew exponentially in 2020 as we started working from home, attending school from home, and participating in online weddings, concerts, parties, and more. So as we begin this new year, it’s impossible to think about data privacy in 2021 without thinking about how an always-on, always secure, always private Internet is more important than ever.The pandemic wasn’t the only thing to dramatically shape data privacy conversations last year. We saw a flurry of new activity on data protection legislation around the globe, and a trend toward data localization in a variety of jurisdictions.I don’t think I’m taking any risks when I say that 2021 looks to be another busy year in the world of privacy and data protection. Let me tell you a bit about what that looks like for us at Cloudflare. We’ll be spending a lot of time in 2021 helping our customers find the solutions they need to meet data protection obligations; enhancing our technical, organizational, and contractual measures to protect the privacy of personal data no matter where in the world it is processed; and continuing to develop privacy-enhancing technologies that can help everyone on the Internet.One of the biggest stories in data protection in 2020 was the Court of Justice of the European Union’s decision in the “Schrems II” case (Case C-311/18, Data Protection Commissioner v Facebook Ireland and Maximillian Schrems) that invalidated the EU-U.S. Privacy Shield. The court’s interpretation of U.S. surveillance laws meant that data controllers transferring EU personal data to U.S. data processors now have an obligation to make sure additional safeguards are in place to provide the same level of data protection as the General Data Protection Regulation (“GDPR”).The court decision was followed by draft guidance from the European Data Protection Board (EDPB) that created new expectations and challenges for transfers of EU personal data to processors outside the EU pursuant to the GDPR. In addition, the EU Commission issued new draft standard contractual clauses that further emphasized the need for data transfer impact assessments and due diligence to be completed prior to transferring EU personal data to processors outside the EU. Meanwhile, even before the EDPB and EU Commission weighed in, France’s data protection authority, the CNIL, challenged the use of a U.S. cloud service provider for the processing of certain health data.This year, the EDPB is poised to issue its final guidance on international data transfers, the EU Commission is set to release a final version of new standard contractual clauses, and the new Biden administration in the United States has already appointed a deputy assistant secretary for services at the U.S. Department of Commerce who will focus on negotiations around a new EU-U.S. Privacy Shield or another data transfer mechanism.However, the trend to regulate international data transfers isn’t confined to Europe. India’s Personal Data Protection Bill, likely to become law in 2021, would bar certain types of personal data from leaving India. And Brazil’s Lei Geral de Proteção de Dados (“LGPD”), which went into effect in 2020, contains requirements for contractual guarantees that need to be in place for personal data to be processed outside Brazil.Meanwhile, we’re seeing more data protection regulation across the globe: The California Consumer Privacy Act (“CCPA”) was amended by a new ballot initiative last year. Countries like Japan, China, Singapore, Canada, and New Zealand, that already had data protection legislation in some form, proposed or enacted amendments to strengthen those protections. And even the United States is considering comprehensive Federal data privacy regulation.In light of last year’s developments and those we expect to see in 2021, Cloudflare is thinking a lot about what it means to process personal data outside its home jurisdiction. One of the key messages to come out of Europe in the second half of 2020 was the idea that to be able to transfer EU personal data to the United States, data processors would have to provide additional safeguards to ensure GDPR-level protection for personal data, even in light of the application of U.S. surveillance laws. While we are eagerly awaiting the EDPB’s final guidance on the subject, we aren’t waiting to ensure that we have in place the necessary additional safeguards.In fact, Cloudflare has long maintained policies to address concerns about access to personal data. We’ve done so because we believe it’s the right thing to do, and because the conflicts of law we are seeing today seemed inevitable. We feel so strongly about our ability to provide that level of protection for data processed in the U.S., that today we are publishing a paper, “Cloudflare’s Policies around Data Privacy and Law Enforcement Requests,” to describe how we address government and other legal requests for data.Our paper describes our policies around data privacy and data requests, such as providing notice to our customers of any legal process requesting their data, and the measures we take to push back on any legal process requesting data where we believe that legal process creates a conflict of law. The paper also describes our public commitments about how we approach requests for data and public statements about things we have never done and, in CEO Matthew Prince’s words, that we “will fight like hell to never do”:In 2021, the Cloudflare team will continue to focus on these safeguards to protect all our customers’ personal data.We also recognize that attention to international data transfers isn’t just a jurisdictional issue. Even if jurisdictions don’t require data localization by law, highly regulated industries like banking and healthcare may adopt best practice guidance asserting more requirements for data if it is to be processed outside a data subject’s home country.With so much activity around data localization trends and international data transfers, companies will continue to struggle to understand regulatory requirements, as well as update products and business processes to meet those requirements and trends. So while we believe that Cloudflare can provide adequate protections for this data regardless of whether it is processed inside or outside its jurisdiction of origin, we also recognize that our customers are dealing with unique compliance challenges that we can help them face.That means that this year we’ll also continue the work we started with our Cloudflare Data Localization Suite, which we announced during our Privacy & Compliance Week in December 2020. The Data Localization Suite is designed to help customers build local requirements into their global online operations. We help our customers ensure that their data stays as private as they want it to, and only goes where they want it to go in the following ways:Cloudflare’s mission is to “Help Build a Better Internet,” and we’ve said repeatedly that a privacy-respecting Internet is a better Internet. We believe in empowering individuals and entities of all sizes with technological tools to reduce the amount of personal data that gets funnelled into the data ocean — regardless of whether someone lives in a country with laws protecting the privacy of their personal data. If we can build tools to help individuals share less personal data online, then that’s a win for privacy no matter what their country of residence.For example, when Cloudflare launched the  1.1.1.1 public DNS resolver — the Internet's fastest, privacy-first public DNS resolver — we committed to our public resolver users that we would not retain any personal data about requests made using our 1.1.1.1 resolver. And because we baked anonymization best practices into the 1.1.1.1 resolver when we built it, we were able to demonstrate that we didn’t have any personal data to sell when we asked independent accountants to conduct a privacy examination of the 1.1.1.1 resolver.2021 will also see a continuation of a number of initiatives that we announced during Privacy and Compliance Week that are aimed at improving Internet protocols related to user privacy:Under the old TLS handshake, privacy-sensitive parameters were negotiated completely in the clear and available to network observers. One example is the Server Name Indication (SNI), used by the client to indicate to the server the website it wants to reach — this is not information that should be exposed to eavesdroppers. Previously, this problem was mitigated through the Encrypted SNI (ESNI) extension. While ESNI took a significant step forward, it is an incomplete solution; a major shortcoming is that it protects only SNI. The Encrypted Client Hello (ECH) extension aims to close this gap by enabling encryption of the entire ClientHello, thereby protecting all privacy-sensitive handshake parameters. These changes represent a significant upgrade to TLS, one that will help preserve end-user privacy as the protocol continues to evolve. As this work continues, Cloudflare is committed to doing its part, along with close collaborators in the standards process, to ensure this important upgrade for TLS reaches Internet-scale deployment.Research has repeatedly shown that passwords are hard for users to manage — and they are also a challenge for servers: passwords are difficult to store securely, they’re frequently leaked and subsequently brute-forced. As long as people still use passwords, we’d like to make the process as secure as possible. Current methods rely on the risky practice of handling plaintext passwords on the server side while checking their correctness. One potential alternative is to use OPAQUE, an asymmetric Password-Authenticated Key Exchange (aPAKE) protocol that allows secure password login without ever letting the server see the passwords.With OPAQUE, instead of storing a traditional salted password hash, the server stores a secret envelope associated with the user that is “locked” by two pieces of information: the user’s password (known only by the user), and a random secret key (known only by the server). To log in, the client initiates a cryptographic exchange that reveals the envelope key only to the client (but not to the server). The server then sends this envelope to the user, who now can retrieve the encrypted keys. Once those keys are unlocked, they will serve as parameters for an Authenticated Key Exchange (AKE) protocol, which establishes a secret key for encrypting future communications.Cloudflare has been pushing the development of OPAQUE forward, and has released a reference core OPAQUE implementation in Go and a demo TLS integration (with a running version you can try out). A Typescript client implementation of OPAQUE is coming soon.Encryption is a powerful tool that protects the privacy of personal data. This is why Cloudflare has doubled down on its implementation of DNS over HTTPS (DoH). In the snail mail world, courts have long recognized a distinction between the level of privacy afforded to the contents of a letter vs. the addressing information on an envelope. But we’re not living in an age where the only thing someone can tell from the outside of the envelope are the “to” and “from” addresses and place of postage. The “digital envelopes” of DNS requests can contain much more information about a person than one might expect. Not only is there information about the sender and recipient addresses, but there is specific timestamp information about when requests were submitted, the domains and subdomains visited, and even how long someone stayed on a certain site. Encrypting those requests ensures that only the user and the resolver get that information, and that no one involved in the transit in between sees it. Given that our digital envelopes tell a much more robust story than the envelope in your physical mailbox, we think encrypting these envelopes is just as important as encrypting the messages they carry.However, there are more ways in which DNS privacy can be enhanced, and Cloudflare took another incremental step in December 2020 by announcing support for Oblivious DoH (ODoH). ODoH is a proposed DNS standard — co-authored by engineers from Cloudflare, Apple, and Fastly — that separates IP addresses from queries, so that no single entity can see both at the same time. ODoH requires a proxy as a key part of the communication path between client and resolver, with encryption ensuring that the proxy does not know the contents of the DNS query (only where to send it), and the resolver knowing what the query is but not who originally requested it (only the proxy’s IP address). Barring collusion between the proxy and the resolver, the identity of the requester and the content of the request are unlinkable.As with DoH, successful deployment requires partners. A key component of ODoH is a proxy that is disjoint from the target resolver. Cloudflare is working with several leading proxy partners — currently PCCW, SURF, and Equinix — who are equally committed to privacy, and hopes to see this list grow.Even with all of these encryption measures, we also know that everything encrypted with today’s public key cryptography can likely be decrypted with tomorrow’s quantum computers. This makes deploying post-quantum cryptography a pressing privacy concern. We’re likely 10 to 15 years away from that development, but as our Head of Research Nick Sullivan described in his blog post in December, we’re not waiting for that future. We’ve been paying close attention to the National Institute of Standards and Technology (NIST)’s initiative to define post-quantum cryptography algorithms to replace RSA and ECC. Last year, Cloudflare and Google performed the TLS Post-Quantum Experiment, which involved implementing and supporting new key exchange mechanisms based on post-quantum cryptography for all Cloudflare customers for a period of a few months.In addition, Cloudflare’s Research Team has been working with researchers from the University of Waterloo and Radboud University on a new protocol called KEMTLS. KEMTLS is designed to be fully post-quantum and relies only on public-key encryption. On the implementation side, Cloudflare has developed high-speed assembly versions of several of the NIST finalists (Kyber, Dilithium), as well as other relevant post-quantum algorithms (CSIDH, SIDH) in our CIRCL cryptography library written in Go. Cloudflare is endeavoring to use post-quantum cryptography for most internal services by the end of 2021, and plans to be among the first services to offer post-quantum cipher suites to customers as standards emerge.If there’s anything 2020 taught us, it’s that our world can change almost overnight. One thing that doesn’t change, though, is that people will always want privacy for their personal data, and regulators will continue to define rules and requirements for what data protection should look like. And as these rules and requirements evolve, Cloudflare will be there every step of the way, developing innovative product and security solutions to protect data, and building privacy into everything we do.We protect\n",
            "                entire corporate networks,\n",
            "                    help customers build\n",
            "                    Internet-scale applications efficiently,\n",
            "                    accelerate any\n",
            "                    website\n",
            "                    or Internet application,\n",
            "                    ward off DDoS\n",
            "                    attacks, keep\n",
            "                    hackers at\n",
            "                    bay,\n",
            "                    and can help you on\n",
            "                    your journey to Zero Trust.Visit 1.1.1.1 from any device to get started with\n",
            "                our free app that makes your Internet faster and safer.To learn more about our mission to help build a better Internet, start here. If you're looking for a\n",
            "                new career direction, check out our open\n",
            "                    positions.Follow on X\n"
          ]
        }
      ],
      "source": [
        "from bs4 import BeautifulSoup\n",
        "import requests\n",
        "import re\n",
        "import bs4 as bs\n",
        "import json\n",
        "\n",
        "\n",
        "r = requests.get('https://blog.cloudflare.com/data-privacy-day-2021-looking-ahead-at-the-always-on-always-secure-always-private-internet/')\n",
        "\n",
        "parsed_article = BeautifulSoup(r.text, \"lxml\")\n",
        "paragraphs = parsed_article.find_all('p')\n",
        "article_text = \"\"\n",
        "\n",
        "for p in paragraphs:\n",
        "    if 'Related Posts' in p.text:\n",
        "        break\n",
        "    else:\n",
        "        article_text += p.text\n",
        "\n",
        "print(article_text)"
      ]
    },
    {
      "cell_type": "code",
      "source": [
        "from bs4 import BeautifulSoup\n",
        "import requests\n",
        "r = requests.get('https://blog.cloudflare.com/page/1/')\n",
        "soup = BeautifulSoup(r.text,'lxml')\n",
        "links = []\n",
        "for link in soup.findAll('a'):\n",
        "    links.append(link.get('href'))\n",
        "final_link = []\n",
        "for link in links:\n",
        "    if link is not None:\n",
        "        if 'https' in link or 'tel' in link or '/page/' in link or '/author/' in link or 'tag' in link or link =='/' or '/search/' in link or link == '/de-de/'\\\n",
        "                or link == '/fr-fr/' or link =='/es-es/' or link == '/pt-br/' or link == '/jp-jp/' or link == '/ru-ru/' or link == '/ko-kr/'\\\n",
        "                or link == '/it-it/' or link == '/ja-jp/' or link == '/zh-tw/' or link == '/zh-cn/':\n",
        "            pass\n",
        "        else:\n",
        "            final_link.append(link)\n",
        "print(final_link)\n",
        "for link in final_link:\n",
        "    a = link.split('/')\n",
        "    title = a[1].replace('-',' ')\n",
        "    print(title)"
      ],
      "metadata": {
        "colab": {
          "base_uri": "https://localhost:8080/",
          "height": 771
        },
        "id": "56h6-oowjA2C",
        "outputId": "d428209f-15f7-444d-d694-96111fab1cf4"
      },
      "execution_count": null,
      "outputs": [
        {
          "output_type": "stream",
          "name": "stdout",
          "text": [
            "['/id-id/', '/th-th/', '/vi-vn/', '/pl-pl/', '/ar-ar/', '/he-il/', '/tr-tr/', '/sv-se/', '/nl-nl/', '/cache-reserve-goes-ga/', '/cache-rules-go-ga/', '/cyber-attacks-in-the-israel-hamas-war/', '/how-cloudflare-mitigated-yet-another-okta-compromise/', '/tenant-platform-ui-ga/', '/network-flow-monitoring-generally-available/', '/introducing-the-project-argus-datacenter-ready-secure-control-module-design-specification/', '/malicious-redalert-rocket-alerts-application-targets-israeli-phone-calls-sms-and-user-information/', '/how-prisma-saved-98-percent-on-distribution-costs-with-cloudflare-r2/', '/technical-breakdown-http2-rapid-reset-ddos-attack/', '/zero-day-rapid-reset-http2-record-breaking-ddos-attack/', '/internet-traffic-patterns-in-israel-and-palestine-following-the-october-2023-attacks/', '/virtual-networking-101-understanding-tap/', '/uncovering-the-hidden-webp-vulnerability-cve-2023-4863/', '/cloudflares-a-top-100-most-loved-workplace-for-2023/', '/1-1-1-1-lookup-failures-on-october-4th-2023/', '/all-cloudflare-customers-protected-atlassian-cve-2023-22515/', '/multihost-waiting-room/', '/magic-wan-connector-general-availability/', '/birthday-week-2023-wrap-up/', '#cookie-settings']\n",
            "id id\n",
            "th th\n",
            "vi vn\n",
            "pl pl\n",
            "ar ar\n",
            "he il\n",
            "tr tr\n",
            "sv se\n",
            "nl nl\n",
            "cache reserve goes ga\n",
            "cache rules go ga\n",
            "cyber attacks in the israel hamas war\n",
            "how cloudflare mitigated yet another okta compromise\n",
            "tenant platform ui ga\n",
            "network flow monitoring generally available\n",
            "introducing the project argus datacenter ready secure control module design specification\n",
            "malicious redalert rocket alerts application targets israeli phone calls sms and user information\n",
            "how prisma saved 98 percent on distribution costs with cloudflare r2\n",
            "technical breakdown http2 rapid reset ddos attack\n",
            "zero day rapid reset http2 record breaking ddos attack\n",
            "internet traffic patterns in israel and palestine following the october 2023 attacks\n",
            "virtual networking 101 understanding tap\n",
            "uncovering the hidden webp vulnerability cve 2023 4863\n",
            "cloudflares a top 100 most loved workplace for 2023\n",
            "1 1 1 1 lookup failures on october 4th 2023\n",
            "all cloudflare customers protected atlassian cve 2023 22515\n",
            "multihost waiting room\n",
            "magic wan connector general availability\n",
            "birthday week 2023 wrap up\n"
          ]
        },
        {
          "output_type": "error",
          "ename": "IndexError",
          "evalue": "ignored",
          "traceback": [
            "\u001b[0;31m---------------------------------------------------------------------------\u001b[0m",
            "\u001b[0;31mIndexError\u001b[0m                                Traceback (most recent call last)",
            "\u001b[0;32m<ipython-input-5-df22fd5dc8a7>\u001b[0m in \u001b[0;36m<cell line: 18>\u001b[0;34m()\u001b[0m\n\u001b[1;32m     18\u001b[0m \u001b[0;32mfor\u001b[0m \u001b[0mlink\u001b[0m \u001b[0;32min\u001b[0m \u001b[0mfinal_link\u001b[0m\u001b[0;34m:\u001b[0m\u001b[0;34m\u001b[0m\u001b[0;34m\u001b[0m\u001b[0m\n\u001b[1;32m     19\u001b[0m     \u001b[0ma\u001b[0m \u001b[0;34m=\u001b[0m \u001b[0mlink\u001b[0m\u001b[0;34m.\u001b[0m\u001b[0msplit\u001b[0m\u001b[0;34m(\u001b[0m\u001b[0;34m'/'\u001b[0m\u001b[0;34m)\u001b[0m\u001b[0;34m\u001b[0m\u001b[0;34m\u001b[0m\u001b[0m\n\u001b[0;32m---> 20\u001b[0;31m     \u001b[0mtitle\u001b[0m \u001b[0;34m=\u001b[0m \u001b[0ma\u001b[0m\u001b[0;34m[\u001b[0m\u001b[0;36m1\u001b[0m\u001b[0;34m]\u001b[0m\u001b[0;34m.\u001b[0m\u001b[0mreplace\u001b[0m\u001b[0;34m(\u001b[0m\u001b[0;34m'-'\u001b[0m\u001b[0;34m,\u001b[0m\u001b[0;34m' '\u001b[0m\u001b[0;34m)\u001b[0m\u001b[0;34m\u001b[0m\u001b[0;34m\u001b[0m\u001b[0m\n\u001b[0m\u001b[1;32m     21\u001b[0m     \u001b[0mprint\u001b[0m\u001b[0;34m(\u001b[0m\u001b[0mtitle\u001b[0m\u001b[0;34m)\u001b[0m\u001b[0;34m\u001b[0m\u001b[0;34m\u001b[0m\u001b[0m\n",
            "\u001b[0;31mIndexError\u001b[0m: list index out of range"
          ]
        }
      ]
    },
    {
      "cell_type": "code",
      "source": [
        "from google.colab import drive\n",
        "\n",
        "drive.mount('/content/drive')"
      ],
      "metadata": {
        "id": "ijiER3wOg79B"
      },
      "execution_count": null,
      "outputs": []
    },
    {
      "cell_type": "code",
      "source": [
        "import re\n",
        "import json\n",
        "\n",
        "with open('../cloudflare/data/flare.json') as json_file:\n",
        "    data = json.load(json_file)\n",
        "\n",
        "lis_of = []\n",
        "for att in data:\n",
        "    at = {}\n",
        "    IP = re.findall(\"\\d{1,3}\\.\\d{1,3}\\.\\d{1,3}\\.\\d{1,3}\", att['explanation'])\n",
        "    if len(IP) != 0 :\n",
        "        for i in IP:\n",
        "            a = i.split('.')\n",
        "            b = 'a' + a[0] + 'b' + a[1] + 'c' + a[2] + 'd' + a[3]\n",
        "            at[\"explanation\"] = att['explanation'].replace(i, b)\n",
        "    else:\n",
        "        at['explanation'] = att['explanation']\n",
        "    at['title'] = att['title']\n",
        "    lis_of.append(at)\n",
        "\n",
        "json_object = json.dumps(lis_of, indent=4,ensure_ascii=False)\n",
        "\n",
        "with open(\"./flare_ip.json\", \"w\") as outfile:\n",
        "        outfile.write(json_object)\n"
      ],
      "metadata": {
        "id": "GC6tJHWelKXu"
      },
      "execution_count": null,
      "outputs": []
    },
    {
      "cell_type": "code",
      "source": [
        "from bs4 import BeautifulSoup\n",
        "import requests\n",
        "import re\n",
        "import bs4 as bs\n",
        "import json\n",
        "import random\n",
        "from concurrent.futures import ThreadPoolExecutor\n",
        "\n",
        "\n",
        "list_of_att = []\n",
        "\n",
        "def link_extract(page):\n",
        "    r = requests.get('https://blog.cloudflare.com/page/'+str(page)+'/')\n",
        "    soup = BeautifulSoup(r.text, 'lxml')\n",
        "    links = []\n",
        "    for link in soup.findAll('a'):\n",
        "        links.append(link.get('href'))\n",
        "    final_link = []\n",
        "    for link in links:\n",
        "        if link is not None:\n",
        "            if 'https' in link or 'tel' in link or '/page/' in link or '/author/' in link or 'tag' in link or link == '/' or '/search/' in link or link == '/de-de/' \\\n",
        "                    or link == '/fr-fr/' or link == '/es-es/' or link == '/pt-br/' or link == '/jp-jp/' or link == '/ru-ru/' or link == '/ko-kr/' \\\n",
        "                    or link == '/it-it/' or link == '/ja-jp/' or link == '/zh-tw/' or link == '/zh-cn/':\n",
        "                pass\n",
        "            else:\n",
        "                final_link.append(link)\n",
        "    return final_link\n",
        "\n",
        "\n",
        "def page_crawl(link):\n",
        "    global list_of_att\n",
        "    r = requests.get(\n",
        "            'https://blog.cloudflare.com'+link)\n",
        "\n",
        "    parsed_article = BeautifulSoup(r.text, \"lxml\")\n",
        "    paragraphs = parsed_article.find_all('p')\n",
        "    article_text = \"\"\n",
        "\n",
        "    for p in paragraphs:\n",
        "        if 'Related Posts' in p.text:\n",
        "            break\n",
        "        else:\n",
        "            article_text += p.text\n",
        "\n",
        "    a = link.split('/')\n",
        "    title = a[1].replace('-',' ')\n",
        "    dict={\n",
        "        'title' : title,\n",
        "        'explanation' : article_text\n",
        "    }\n",
        "    list_of_att.append(dict)\n",
        "\n",
        "if __name__ == '__main__':\n",
        "    for i in range(1,334):\n",
        "        print(f'page : {i}')\n",
        "        list_of_link = link_extract(i)\n",
        "        with ThreadPoolExecutor(max_workers=5) as executor:\n",
        "            for link in list_of_link:\n",
        "                print(link)\n",
        "                executor.submit(page_crawl,link)\n",
        "\n",
        "    with open(\"./content/drive/MyDrive/flare.json\", \"a\", encoding='utf-8') as outfile:\n",
        "        json.dump(list_of_att, outfile, ensure_ascii=False, indent=4)\n"
      ],
      "metadata": {
        "id": "IXGGL4MTjpwi"
      },
      "execution_count": null,
      "outputs": []
    },
    {
      "cell_type": "code",
      "source": [
        "from IOC_EX.iocext import ioc_find\n",
        "import json\n",
        "\n",
        "if __name__ == '__main__':\n",
        "    list_of_att_ioc = []\n",
        "    with open('data/flare.json') as json_file:\n",
        "        data = json.load(json_file)\n",
        "    for att in data:\n",
        "        iocs = ioc_find(att['explanation'])\n",
        "        for key,value in iocs.items():\n",
        "           if len(value) == 0 :\n",
        "               del key\n",
        "        list_of_att_ioc.append({\n",
        "            'title' : att['title'],\n",
        "            'explanation' : att['explanation'],\n",
        "            'ioc' : iocs\n",
        "        })\n",
        "\n",
        "    json_object = json.dumps(list_of_att_ioc, indent=4,ensure_ascii=False)\n",
        "\n",
        "    with open(\"./content/drive/MyDrive/flare_ioc.json\", \"a\") as outfile:\n",
        "        outfile.write(json_object)"
      ],
      "metadata": {
        "id": "X23D75vNjA-L"
      },
      "execution_count": null,
      "outputs": []
    },
    {
      "cell_type": "code",
      "source": [
        "from concurrent.futures.thread import ThreadPoolExecutor\n",
        "\n",
        "import requests\n",
        "import json\n",
        "import random\n",
        "import time\n",
        "\n",
        "def parse(att):\n",
        "    body = {'data': att['explanation']}\n",
        "    while True:\n",
        "        try:\n",
        "            r = requests.post('https://api.iocparser.com/raw', data=body,\n",
        "                        proxies={'http': f'localhost:{random.randint(5002, 5016)}',\n",
        "                                'https': f'localhost:{random.randint(5002, 5016)}'})\n",
        "        except Exception :\n",
        "            continue\n",
        "        else:\n",
        "            break\n",
        "    try:\n",
        "        response = json.loads(r.text)\n",
        "    except Exception:\n",
        "        pass\n",
        "    else:\n",
        "        pp = {\n",
        "            'tite':att['title'],\n",
        "            'Explanation' : att['explanation'],\n",
        "            'IOC' : response['data']\n",
        "        }\n",
        "        print(pp)\n",
        "        lis.append(pp)\n",
        "\n",
        "if __name__ == '__main__':\n",
        "\n",
        "    f = open('./content/drive/MyDrive/flare.json', )\n",
        "\n",
        "# returns JSON object as\n",
        "# a dictionary\n",
        "    data = json.load(f)\n",
        "    lis = []\n",
        "    with ThreadPoolExecutor(max_workers=100) as executor:\n",
        "        for att in data:\n",
        "            executor.submit(parse,att)\n",
        "\n",
        "    json_object = json.dumps(lis, indent=4,ensure_ascii=False)\n",
        "    with open(\"./content/drive/MyDrive/flare_iocparser.json\", \"a\") as outfile:\n",
        "        outfile.write(json_object)\n"
      ],
      "metadata": {
        "id": "HM6HAKDpkCyn"
      },
      "execution_count": null,
      "outputs": []
    },
    {
      "cell_type": "code",
      "source": [
        "from IOC_EX.iocext import ioc_find\n",
        "import json\n",
        "import re\n",
        "\n",
        "\n",
        "if __name__ == '__main__':\n",
        "    list_of_att_ioc = []\n",
        "    with open('data/flare.json') as json_file:\n",
        "        data = json.load(json_file)\n",
        "    for att in data:\n",
        "        cves = CVE = re.findall(\"cve-[0-9]{4}-[0-9]{4,6}\",att['explanation'].lower())\n",
        "        if len(cves) !=0:\n",
        "            list_of_att_ioc.append({\n",
        "                'title' : att['title'],\n",
        "                'explanation' : att['explanation'],\n",
        "                'ioc' : cves\n",
        "            })\n",
        "\n",
        "    json_object = json.dumps(list_of_att_ioc, indent=4,ensure_ascii=False)\n",
        "\n",
        "    with open(\"./content/drive/MyDrive/flare_ioc_cves.json\", \"a\") as outfile:\n",
        "        outfile.write(json_object)"
      ],
      "metadata": {
        "id": "b8w5Xou7kMjz"
      },
      "execution_count": null,
      "outputs": []
    }
  ]
}