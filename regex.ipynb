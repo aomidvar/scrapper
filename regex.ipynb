{
  "nbformat": 4,
  "nbformat_minor": 0,
  "metadata": {
    "colab": {
      "provenance": [],
      "authorship_tag": "ABX9TyOxP/tRmoot926+0wqcYl4u",
      "include_colab_link": true
    },
    "kernelspec": {
      "name": "python3",
      "display_name": "Python 3"
    },
    "language_info": {
      "name": "python"
    }
  },
  "cells": [
    {
      "cell_type": "markdown",
      "metadata": {
        "id": "view-in-github",
        "colab_type": "text"
      },
      "source": [
        "<a href=\"https://colab.research.google.com/github/aomidvar/scrapper/blob/main/regex.ipynb\" target=\"_parent\"><img src=\"https://colab.research.google.com/assets/colab-badge.svg\" alt=\"Open In Colab\"/></a>"
      ]
    },
    {
      "cell_type": "code",
      "execution_count": null,
      "metadata": {
        "colab": {
          "base_uri": "https://localhost:8080/"
        },
        "id": "WLGUdQbEk_Wg",
        "outputId": "3cc54324-c82c-4d1a-e6bc-1605b8e938ce"
      },
      "outputs": [
        {
          "output_type": "stream",
          "name": "stdout",
          "text": [
            "['cve-2019-0708', 'cve-2019-0708', 'cve-2019-0911', 'cve-2019-0912', 'cve-2019-0913', 'cve-2019-0914', 'cve-2019-0915', 'cve-2019-0916', 'cve-2019-0917', 'cve-2019-0918', 'cve-2019-0921', 'cve-2019-0922', 'cve-2019-0923', 'cve-2019-0924', 'cve-2019-0925', 'cve-2019-0926', 'cve-2019-0927', 'cve-2019-0929', 'cve-2019-0930', 'cve-2019-0884', 'cve-2019-0937', 'cve-2019-0938', 'cve-2019-0940', 'cve-2019-0933', 'cve-2019-0995', 'cve-2019-0945', 'cve-2019-0946', 'cve-2019-0947', 'cve-2019-0949', 'cve-2019-0950', 'cve-2019-0951', 'cve-2019-0952', 'cve-2019-0953', 'cve-2019-0956', 'cve-2019-0957', 'cve-2019-0958', 'cve-2019-0963', 'cve-2019-0820', 'cve-2019-0864', 'cve-2019-0980', 'cve-2019-0981', 'cve-2019-0982', 'cve-2019-0976', 'cve-2019-0881', 'cve-2019-0892', 'cve-2019-0725', 'cve-2019-0707', 'cve-2019-0727', 'cve-2019-0733', 'cve-2019-0734', 'cve-2019-0819', 'cve-2019-0863', 'cve-2019-0885', 'cve-2019-0886', 'cve-2019-0931', 'cve-2019-0936', 'cve-2019-0942', 'cve-2019-1008', 'cve-2019-0708', 'cve-2019-0903', 'cve-2019-0758', 'cve-2019-0882', 'cve-2019-0961', 'cve-2019-0932', 'cve-2019-0889', 'cve-2019-0890', 'cve-2019-0891', 'cve-2019-0893', 'cve-2019-0894', 'cve-2019-0895', 'cve-2019-0896', 'cve-2019-0897', 'cve-2019-0898', 'cve-2019-0899', 'cve-2019-0900', 'cve-2019-0901', 'cve-2019-0902', 'cve-2019-0872', 'cve-2019-1000', 'cve-2019-0971', 'cve-2019-0979']\n"
          ]
        }
      ],
      "source": [
        "import re\n",
        "import json\n",
        "\n",
        "\n",
        "txt = \"as always, customers are advised to follow these security best practices:important: due to the severity of cve-2019-0708, and the high likelihood of exploitation, symantec recommends that customers apply patches immediately. if immediate patching is not possible, customers should take the following steps:update 05-22-2019: symantec has released the following ips signatures to detect and block attempts to exploit cve-2019-0708:microsoft's summary of the may 2019 releases can be found here:\\nhttps://portal.msrc.microsoft.com/en-us/security-guidance this month's update covers vulnerabilities in: the following is a breakdown of the issues being addressed this month:cumulative security update for microsoft browsersscripting engine memory corruption vulnerability (cve-2019-0911) ms rating: critical chakra scripting engine memory corruption vulnerability (cve-2019-0912) ms rating: critical chakra scripting engine memory corruption vulnerability (cve-2019-0913) ms rating: critical chakra scripting engine memory corruption vulnerability (cve-2019-0914) ms rating: critical chakra scripting engine memory corruption vulnerability (cve-2019-0915) ms rating: critical chakra scripting engine memory corruption vulnerability (cve-2019-0916) ms rating: critical chakra scripting engine memory corruption vulnerability (cve-2019-0917) ms rating: critical scripting engine memory corruption vulnerability (cve-2019-0918) ms rating: critical internet explorer spoofing vulnerability (cve-2019-0921) ms rating: important chakra scripting engine memory corruption vulnerability (cve-2019-0922) ms rating: critical chakra scripting engine memory corruption vulnerability (cve-2019-0923) ms rating: important chakra scripting engine memory corruption vulnerability (cve-2019-0924) ms rating: critical chakra scripting engine memory corruption vulnerability (cve-2019-0925) ms rating: critical microsoft edge memory corruption vulnerability (cve-2019-0926) ms rating: critical chakra scripting engine memory corruption vulnerability (cve-2019-0927) ms rating: critical internet explorer memory corruption vulnerability (cve-2019-0929) ms rating: critical internet explorer information disclosure vulnerability (cve-2019-0930) ms rating: important scripting engine memory corruption vulnerability (cve-2019-0884) ms rating: critical chakra scripting engine memory corruption vulnerability (cve-2019-0937) ms rating: critical microsoft edge privilege escalation vulnerability (cve-2019-0938) ms rating: important microsoft browser memory corruption vulnerability (cve-2019-0940) ms rating: critical chakra scripting engine memory corruption vulnerability (cve-2019-0933) ms rating: critical internet explorer security bypass vulnerability (cve-2019-0995) ms rating: important cumulative security update for microsoft officemicrosoft office access connectivity engine remote code execution vulnerability (cve-2019-0945) ms rating: important microsoft office access connectivity engine remote code execution vulnerability (cve-2019-0946) ms rating: important microsoft office access connectivity engine remote code execution vulnerability (cve-2019-0947) ms rating: important microsoft sharepoint spoofing vulnerability (cve-2019-0949) ms rating: important microsoft sharepoint spoofing vulnerability (cve-2019-0950) ms rating: important microsoft sharepoint spoofing vulnerability (cve-2019-0951) ms rating: important microsoft sharepoint server remote code execution vulnerability (cve-2019-0952) ms rating: important microsoft word remote code execution vulnerability (cve-2019-0953) ms rating: critical microsoft sharepoint server information disclosure vulnerability (cve-2019-0956) ms rating: important microsoft sharepoint privilege escalation vulnerability (cve-2019-0957) ms rating: important microsoft sharepoint privilege escalation vulnerability (cve-2019-0958) ms rating: important microsoft office sharepoint xss vulnerability (cve-2019-0963) ms rating: important cumulative security update for microsoft .net.net framework and .net core denial of service vulnerability (cve-2019-0820) ms rating: important .net framework denial of service vulnerability (cve-2019-0864) ms rating: important asp.net core denial of service vulnerability (cve-2019-0980) ms rating: important asp.net core denial of service vulnerability (cve-2019-0981) ms rating: important asp.net denial of service vulnerability (cve-2019-0982) ms rating: important nuget package manager tampering vulnerability (cve-2019-0976) ms rating: important cumulative security update for microsoft windows kernelwindows kernel privilege escalation vulnerability (cve-2019-0881) ms rating: important win32k privilege escalation vulnerability (cve-2019-0892) ms rating: important cumulative security update for microsoft windowswindows dhcp server remote code execution vulnerability (cve-2019-0725) ms rating: critical windows ndis privilege escalation vulnerability (cve-2019-0707) ms rating: important diagnostic hub standard collector,visual studio standard collector privilege escalation vulnerability (cve-2019-0727) ms rating: important windows defender application control security bypass vulnerability (cve-2019-0733) ms rating: important windows privilege escalation vulnerability (cve-2019-0734) ms rating: important microsoft sql server analysis services information disclosure vulnerability (cve-2019-0819) ms rating: important windows error reporting privilege escalation vulnerability (cve-2019-0863) ms rating: important windows ole remote code execution vulnerability (cve-2019-0885) ms rating: important windows hyper-v information disclosure vulnerability (cve-2019-0886) ms rating: important windows storage service privilege escalation vulnerability (cve-2019-0931) ms rating: important windows privilege escalation vulnerability (cve-2019-0936) ms rating: important unified write filter privilege escalation vulnerability (cve-2019-0942) ms rating: important microsoft dynamics on-premise security bypass vulnerability (cve-2019-1008) ms rating: important security update for microsoft remote desktop servicesremote desktop services remote code execution vulnerability (cve-2019-0708) ms rating: critical security update for windows graphics device interface (gdi)gdi+ remote code execution vulnerability (cve-2019-0903) ms rating: critical windows gdi information disclosure vulnerability (cve-2019-0758) ms rating: important windows gdi information disclosure vulnerability (cve-2019-0882) ms rating: important windows gdi information disclosure vulnerability (cve-2019-0961) ms rating: important security update for skype for android skype for android information disclosure vulnerability (cve-2019-0932) ms rating: important security update for jet database enginejet database engine remote code execution vulnerability (cve-2019-0889) ms rating: important jet database engine remote code execution vulnerability (cve-2019-0890) ms rating: important jet database engine remote code execution vulnerability (cve-2019-0891) ms rating: important jet database engine remote code execution vulnerability (cve-2019-0893) ms rating: important jet database engine remote code execution vulnerability (cve-2019-0894) ms rating: important jet database engine remote code execution vulnerability (cve-2019-0895) ms rating: important jet database engine remote code execution vulnerability (cve-2019-0896) ms rating: important jet database engine remote code execution vulnerability (cve-2019-0897) ms rating: important jet database engine remote code execution vulnerability (cve-2019-0898) ms rating: important jet database engine remote code execution vulnerability (cve-2019-0899) ms rating: important jet database engine remote code execution vulnerability (cve-2019-0900) ms rating: important jet database engine remote code execution vulnerability (cve-2019-0901) ms rating: important jet database engine remote code execution vulnerability (cve-2019-0902) ms rating: important security update for azure and team foundation serverazure devops server and team foundation server cross-site scripting vulnerability (cve-2019-0872) ms rating: important microsoft azure ad connect privilege escalation vulnerability (cve-2019-1000) ms rating: important azure devops server and team foundation server information disclosure vulnerability (cve-2019-0971) ms rating: important azure devops server and team foundation server cross-site scripting vulnerability (cve-2019-0979) ms rating: important more information is available on symantec's free security center portal and to our customers through the deepsight threat management system.ratheesh is a member of symantec's cyber security services organization which provides round-the-clock monitoring and protection services against cyber attacks.\\nwe encourage you to share your thoughts on your favorite social platform.\"\n",
        "CVE = re.findall(\"cve-[0-9]{4}-[0-9]{4,6}\",txt)\n",
        "print(CVE)"
      ]
    },
    {
      "cell_type": "code",
      "source": [
        "from google.colab import drive\n",
        "\n",
        "drive.mount('/content/drive')"
      ],
      "metadata": {
        "id": "MtU3V0U0hffv"
      },
      "execution_count": null,
      "outputs": []
    },
    {
      "cell_type": "code",
      "source": [
        "import re\n",
        "import json\n",
        "\n",
        "with open(\"/content/drive/MyDrive/symantec.json\") as json_file:\n",
        "    data = json.load(json_file)\n",
        "#txt = data[100]['Explanation']\n",
        "txt = \"0889a7ad0ad0822e9bce2ca316b57f4d ae65ffcd83dab3fdafea3ff6915fce34e1307bce \"\n",
        "CVE = re.findall(\"CVE-[0-9]{4}-[0-9]{4,6}\",txt)\n",
        "MD5 = re.findall(\"[a-f 0-9]{32}|[A-F 0-9]{32}\",txt)\n",
        "SHA1 = re.findall(\"[a-f 0-9]{40}|[A-F 0-9]{40}\",txt)\n",
        "EMAIL = re.findall(\"[a-z0-9]+[\\._]?[a-z0-9]+[@]\\w+[.]\\w+$\",txt)\n",
        "REGISTER = re.findall(\"[HKLM|HKCU]\\\\[A-F 0-9]{40}\",txt)\n",
        "IP = re.findall(\"\\d{1,3}\\.\\d{1,3}\\.\\d{1,3}\\.\\d{1,3}\",txt)\n",
        "\n",
        "\n",
        "print(CVE)\n",
        "print(MD5)\n",
        "print(SHA1)\n",
        "print(EMAIL)\n",
        "print(REGISTER)\n",
        "print(IP)"
      ],
      "metadata": {
        "id": "37m8UUGzldwf"
      },
      "execution_count": null,
      "outputs": []
    }
  ]
}