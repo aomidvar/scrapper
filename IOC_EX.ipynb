{
  "nbformat": 4,
  "nbformat_minor": 0,
  "metadata": {
    "colab": {
      "provenance": [],
      "authorship_tag": "ABX9TyMu3NfnhEYF8U8fU2HpnHFF",
      "include_colab_link": true
    },
    "kernelspec": {
      "name": "python3",
      "display_name": "Python 3"
    },
    "language_info": {
      "name": "python"
    }
  },
  "cells": [
    {
      "cell_type": "markdown",
      "metadata": {
        "id": "view-in-github",
        "colab_type": "text"
      },
      "source": [
        "<a href=\"https://colab.research.google.com/github/aomidvar/scrapper/blob/main/IOC_EX.ipynb\" target=\"_parent\"><img src=\"https://colab.research.google.com/assets/colab-badge.svg\" alt=\"Open In Colab\"/></a>"
      ]
    },
    {
      "cell_type": "code",
      "execution_count": null,
      "metadata": {
        "id": "0LGswxkwhLw5"
      },
      "outputs": [],
      "source": [
        "import re\n",
        "\n",
        "def ioc_find(txt):\n",
        "    CVE = re.findall(\"CVE-[0-9]{4}-[0-9]{4,6}\",txt)\n",
        "    MD5 = re.findall(\"[a-f 0-9]{32}|[A-F 0-9]{32}\",txt)\n",
        "    SHA1 = re.findall(\"[a-f 0-9]{40}|[A-F 0-9]{40}\",txt)\n",
        "    EMAIL = re.findall(\"[a-z0-9]+[\\._]?[a-z0-9]+[@]\\w+[.]\\w+$\",txt)\n",
        "    REGISTER = re.findall(\"[HKLM|HKCU]\\\\[A-F 0-9]{40}\",txt)\n",
        "    IP = re.findall(\"\\d{1,3}\\.\\d{1,3}\\.\\d{1,3}\\.\\d{1,3}\",txt)\n",
        "    return {\n",
        "        'CVE' : CVE,\n",
        "        'MD5' : MD5,\n",
        "        'SHA1' : SHA1,\n",
        "        'EMAIL' : EMAIL,\n",
        "        'REGISTER' : REGISTER,\n",
        "        'IP' : IP\n",
        "    }\n"
      ]
    },
    {
      "cell_type": "code",
      "source": [
        "import re\n",
        "\n",
        "Explanation = \"symantec, a division of broadcom (nasdaq: avgo), has uncovered an additional piece of malware used in the solarwinds attacks which was used against a select number of victims that were of interest to the attackers.raindrop (backdoor.raindrop) is a loader which delivers a payload of cobalt strike. raindrop is very similar to the already documented teardrop tool, but there are some key differences between the two. while teardrop was delivered by the initial sunburst backdoor (backdoor.sunburst), raindrop appears to have been used for spreading across the victim’s network. symantec has seen no evidence to date of raindrop being delivered directly by sunburst. instead, it appears elsewhere on networks where at least one computer has already been compromised by sunburst.in one victim, in early july 2020, sunburst was installed through the solarwinds orion update, as has been well documented. two computers were compromised.the following day, teardrop was subsequently installed on one of these computers. that computer was found to have an active directory query tool, as well as a credential dumper designed specifically for solarwinds orion databases. the credential dumper was similar to, but not the same as, the open source solarflare tool.eleven days later, on a third victim computer in the organization, where no previous malicious activity had been observed, a copy of the previously unseen raindrop was installed under the name bproxy.dll. this computer was running computer access and management software. the attackers could have used this software to access any of the computers in the compromised organization.one hour later, the raindrop malware installed an additional file called \\\"7z.dll\\\". we were unable to retrieve this file, however, within hours a legitimate version of 7zip was used to extract a copy of what appeared to be directory services internals (dsinternals) onto the computer. dsinternals is a legitimate tool which can be used for querying active directory servers and retrieving data, typically passwords, keys, or password hashes.an additional tool called mc_store.exe was later installed by the attackers on this computer. the tool is an unknown pyinstaller packaged application. no further activity was observed on this computer.in a second victim where the raindrop loader was seen, it was installed in a file called astdrvx64.dll in late may. several days later, in early june, powershell commands were executed on that computer, attempting to execute further instances of raindrop on additional computers in the organization.\\\"invoke-command -computername redacted -scriptblock { rundll32 c:\\\\packages\\\\plugins\\\\microsoft.powershell.dsc\\\\2.77.0.0\\\\bin\\\\telemetrystatus.dll tk_createitemtype}\\\"\\\"invoke-wmimethod win32_process -name create -argumentlist 'rundll32 c:\\\\windows\\\\speech_onecore\\\\engines\\\\tts\\\\en-us\\\\enus.media.dll tkchangeeventwindow' -computername redacted\\\"in a third victim, where raindrop was seen, the instance of cobalt strike that was extracted did not have a http-based command and control server, but was rather configured to use a network pipe over smb (\\\\\\\\.\\\\pipe\\\\protected_storage[redacted]). it's possible that in this instance, the victim computer did not have direct access to the internet, and so command and control was routed through another computer on the local network.raindrop is similar to teardrop in that both pieces of malware act as a loader for cobalt strike beacon. raindrop uses a custom packer to pack cobalt strike. this packer is different to the one used by teardrop.raindrop is compiled as a dll, which is built from a modified version of 7-zip source code. the 7-zip code is not utilized and is designed to hide malicious functionality added by the attackers. the dll is compiled where the name file of the export directory table is “\\\"7-zip.dll\\\" and the export names are:and one of the following, selected at random:the export names used seem to overlap with names used by tcl/tk projects (see here and here).whenever the dll is loaded, it starts a new thread from the dllmain subroutine that executes the malicious code. this malicious thread performs the following actions:in order to locate the start of the encoded payload, the packer uses steganography by scanning the bytes starting from the beginning of the subroutine and skipping any bytes until the first occurrence of the following bytes that represent operation codes (opcodes) of interest:.data:0000000180053008 opcodes         db 5, 0dh, 15h, 1dh, 25h, 2dh, 35h, 3dh, 0b8hthe malware will then perform the following actions:although raindrop is very similar to teardrop, there are some key differences between the tools. as mentioned previously, raindrop uses a different packer. the packers differ in the following ways:while both malware families are designed to deploy cobalt strike beacon, there are differences in cobalt strike configuration. to date, symantec has seen four samples of raindrop. in three cases, cobalt strike was configured to use https as a communication protocol. in the fourth it was configured to use smb named pipe as a communication protocol.all three raindrop samples using https communication follow very similar configuration patterns as previously seen in one teardrop sample (b820e8a2057112d0ed73bd7995201dbed79a79e13c79d4bdad81a22f12387e07).the most important similarities are highlighted below.all of the aforementioned domains use a common registrar, namesilo, llc and, except for panhardware[.]com, which is currently sinkholed, have common name servers:the discovery of raindrop is a significant step in our investigation of the solarwinds attacks as it provides further insights into post-compromise activity at organizations of interest to the attackers. while teardrop was used on computers that had been infected by the original sunburst trojan, raindrop appeared elsewhere on the network, being used by the attackers to move laterally and deploy payloads on other computers.tools associated with these attacks will be detected and blocked on machines running symantec endpoint products.file-based protection:network-based protection:for the latest protection updates, please visit the symantec protection bulletin.the yara rules are also available for download on github.the threat hunter team is a group of security experts within symantec whose mission is to investigate targeted attacks, drive enhanced protection in symantec products, and offer analysis that helps customers respond to attacks.we encourage you to share your thoughts on your favorite social platform.\"\n",
        "IP = re.findall(\"\\d{1,3}\\.\\d{1,3}\\.\\d{1,3}\\.\\d{1,3}\", Explanation)\n",
        "print(IP)\n",
        "\n",
        "for i in IP:\n",
        "    a = i.split('.')\n",
        "    b = 'a'+a[0]+'b'+a[1]+'c'+a[2]+'d'+a[3]\n",
        "    print(b)\n",
        "    Explanation = Explanation.replace(i,b)\n",
        "\n",
        "\n",
        "print(Explanation)\n"
      ],
      "metadata": {
        "colab": {
          "base_uri": "https://localhost:8080/"
        },
        "id": "n3DZ71KaiDzM",
        "outputId": "2ae3e8a1-d3e3-470c-c443-e286ea0085de"
      },
      "execution_count": null,
      "outputs": [
        {
          "output_type": "stream",
          "name": "stdout",
          "text": [
            "['2.77.0.0']\n",
            "a2b77c0d0\n",
            "symantec, a division of broadcom (nasdaq: avgo), has uncovered an additional piece of malware used in the solarwinds attacks which was used against a select number of victims that were of interest to the attackers.raindrop (backdoor.raindrop) is a loader which delivers a payload of cobalt strike. raindrop is very similar to the already documented teardrop tool, but there are some key differences between the two. while teardrop was delivered by the initial sunburst backdoor (backdoor.sunburst), raindrop appears to have been used for spreading across the victim’s network. symantec has seen no evidence to date of raindrop being delivered directly by sunburst. instead, it appears elsewhere on networks where at least one computer has already been compromised by sunburst.in one victim, in early july 2020, sunburst was installed through the solarwinds orion update, as has been well documented. two computers were compromised.the following day, teardrop was subsequently installed on one of these computers. that computer was found to have an active directory query tool, as well as a credential dumper designed specifically for solarwinds orion databases. the credential dumper was similar to, but not the same as, the open source solarflare tool.eleven days later, on a third victim computer in the organization, where no previous malicious activity had been observed, a copy of the previously unseen raindrop was installed under the name bproxy.dll. this computer was running computer access and management software. the attackers could have used this software to access any of the computers in the compromised organization.one hour later, the raindrop malware installed an additional file called \"7z.dll\". we were unable to retrieve this file, however, within hours a legitimate version of 7zip was used to extract a copy of what appeared to be directory services internals (dsinternals) onto the computer. dsinternals is a legitimate tool which can be used for querying active directory servers and retrieving data, typically passwords, keys, or password hashes.an additional tool called mc_store.exe was later installed by the attackers on this computer. the tool is an unknown pyinstaller packaged application. no further activity was observed on this computer.in a second victim where the raindrop loader was seen, it was installed in a file called astdrvx64.dll in late may. several days later, in early june, powershell commands were executed on that computer, attempting to execute further instances of raindrop on additional computers in the organization.\"invoke-command -computername redacted -scriptblock { rundll32 c:\\packages\\plugins\\microsoft.powershell.dsc\\a2b77c0d0\\bin\\telemetrystatus.dll tk_createitemtype}\"\"invoke-wmimethod win32_process -name create -argumentlist 'rundll32 c:\\windows\\speech_onecore\\engines\\tts\\en-us\\enus.media.dll tkchangeeventwindow' -computername redacted\"in a third victim, where raindrop was seen, the instance of cobalt strike that was extracted did not have a http-based command and control server, but was rather configured to use a network pipe over smb (\\\\.\\pipe\\protected_storage[redacted]). it's possible that in this instance, the victim computer did not have direct access to the internet, and so command and control was routed through another computer on the local network.raindrop is similar to teardrop in that both pieces of malware act as a loader for cobalt strike beacon. raindrop uses a custom packer to pack cobalt strike. this packer is different to the one used by teardrop.raindrop is compiled as a dll, which is built from a modified version of 7-zip source code. the 7-zip code is not utilized and is designed to hide malicious functionality added by the attackers. the dll is compiled where the name file of the export directory table is “\"7-zip.dll\" and the export names are:and one of the following, selected at random:the export names used seem to overlap with names used by tcl/tk projects (see here and here).whenever the dll is loaded, it starts a new thread from the dllmain subroutine that executes the malicious code. this malicious thread performs the following actions:in order to locate the start of the encoded payload, the packer uses steganography by scanning the bytes starting from the beginning of the subroutine and skipping any bytes until the first occurrence of the following bytes that represent operation codes (opcodes) of interest:.data:0000000180053008 opcodes         db 5, 0dh, 15h, 1dh, 25h, 2dh, 35h, 3dh, 0b8hthe malware will then perform the following actions:although raindrop is very similar to teardrop, there are some key differences between the tools. as mentioned previously, raindrop uses a different packer. the packers differ in the following ways:while both malware families are designed to deploy cobalt strike beacon, there are differences in cobalt strike configuration. to date, symantec has seen four samples of raindrop. in three cases, cobalt strike was configured to use https as a communication protocol. in the fourth it was configured to use smb named pipe as a communication protocol.all three raindrop samples using https communication follow very similar configuration patterns as previously seen in one teardrop sample (b820e8a2057112d0ed73bd7995201dbed79a79e13c79d4bdad81a22f12387e07).the most important similarities are highlighted below.all of the aforementioned domains use a common registrar, namesilo, llc and, except for panhardware[.]com, which is currently sinkholed, have common name servers:the discovery of raindrop is a significant step in our investigation of the solarwinds attacks as it provides further insights into post-compromise activity at organizations of interest to the attackers. while teardrop was used on computers that had been infected by the original sunburst trojan, raindrop appeared elsewhere on the network, being used by the attackers to move laterally and deploy payloads on other computers.tools associated with these attacks will be detected and blocked on machines running symantec endpoint products.file-based protection:network-based protection:for the latest protection updates, please visit the symantec protection bulletin.the yara rules are also available for download on github.the threat hunter team is a group of security experts within symantec whose mission is to investigate targeted attacks, drive enhanced protection in symantec products, and offer analysis that helps customers respond to attacks.we encourage you to share your thoughts on your favorite social platform.\n"
          ]
        }
      ]
    }
  ]
}